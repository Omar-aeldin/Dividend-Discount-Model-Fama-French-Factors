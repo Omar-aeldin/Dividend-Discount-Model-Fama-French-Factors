{
 "cells": [
  {
   "cell_type": "code",
   "execution_count": 1,
   "id": "58e58eea",
   "metadata": {},
   "outputs": [],
   "source": [
    "import random\n",
    "import pandas as pd\n",
    "import yfinance as yf\n",
    "import statsmodels.api as sm\n",
    "from datetime import datetime\n",
    "import numpy as np\n",
    "from matplotlib import pyplot as plt\n",
    "import pandas_datareader.data as reader\n",
    "import datetime as dt\n",
    "import matplotlib.pyplot as plt\n",
    "import getFamaFrenchFactors as gff\n",
    "import seaborn as sns"
   ]
  },
  {
   "cell_type": "markdown",
   "id": "3749f6e6",
   "metadata": {},
   "source": [
    "## Three Factor Model (Fama-Fremch, 1993)\n",
    "\n",
    ">$$R_{s}-R_{f}=\\alpha+\\beta_{mkt}\\left(R_{mkt}-R_{f}\\right)+\\beta_{SMB}R_{SMB}+\\beta_{HML}R_{HML}$$\n",
    "\n",
    "where: <br>\n",
    "$R_{s}-R_{f}$ = cost of equity <br>\n",
    "$R_{s}$ = return on stock <br>\n",
    "$R_{f}$ = risk-free rate <br>\n",
    "$\\beta_{mkt}$ = market beta <br>\n",
    "$R_{mkt}$ = market premuim<br>\n",
    "$\\beta_{SMB}$ = size beta <br>\n",
    "$R_{SMB}$ = size premuim<br>\n",
    "$\\beta_{HML}$ = value beta <br>\n",
    "$R_{HML}$ = value premuim <br>\n",
    "\n",
    "*Model was chosen instead of traditional CAPM due to the stock's low Beta."
   ]
  },
  {
   "cell_type": "markdown",
   "id": "c1387228",
   "metadata": {},
   "source": [
    "Get monthly stock prices from Yahoo Finance"
   ]
  },
  {
   "cell_type": "code",
   "execution_count": 2,
   "id": "f774f0a5",
   "metadata": {},
   "outputs": [],
   "source": [
    "end = dt.datetime.now()\n",
    "start = dt.date(end.year-11, end.month, end.day)\n",
    "ticker= ['ENB.TO']\n",
    "stock_prices = reader.get_data_yahoo(ticker, start, end)['Adj Close']\n",
    "stock_prices = stock_prices.resample('1M').last()\n",
    "stock_returns = stock_prices.pct_change()\n",
    "stock_returns = stock_returns.dropna()"
   ]
  },
  {
   "cell_type": "markdown",
   "id": "71638f51",
   "metadata": {},
   "source": [
    "Get Monthly Fama-french 3 Factors from Kenneth R. French  data library"
   ]
  },
  {
   "cell_type": "code",
   "execution_count": 3,
   "id": "99aa748a",
   "metadata": {},
   "outputs": [
    {
     "name": "stdout",
     "output_type": "stream",
     "text": [
      "Market Premium: 0.006642510822510826 Size Premium: 0.001931948051948053 Value Premium: 0.003523896103896111\n"
     ]
    }
   ],
   "source": [
    "ff3_monthly = pd.DataFrame(gff.famaFrench3Factor(frequency='m'))\n",
    "ff3_monthly.rename(columns={'date_ff_factors':'Date'}, inplace=True)\n",
    "ff3_monthly.set_index('Date', inplace = True)\n",
    "market_premium = ff3_monthly['Mkt-RF'].mean()\n",
    "size_premium = ff3_monthly['SMB'].mean()\n",
    "value_premium = ff3_monthly['HML'].mean()\n",
    "print('Market Premium:',market_premium, 'Size Premium:', size_premium,'Value Premium:', value_premium)\n"
   ]
  },
  {
   "cell_type": "markdown",
   "id": "0bbc84f1",
   "metadata": {},
   "source": [
    "Monthly Excess Returns"
   ]
  },
  {
   "cell_type": "code",
   "execution_count": 14,
   "id": "ad6747e9",
   "metadata": {},
   "outputs": [
    {
     "data": {
      "text/html": [
       "<div>\n",
       "<style scoped>\n",
       "    .dataframe tbody tr th:only-of-type {\n",
       "        vertical-align: middle;\n",
       "    }\n",
       "\n",
       "    .dataframe tbody tr th {\n",
       "        vertical-align: top;\n",
       "    }\n",
       "\n",
       "    .dataframe thead th {\n",
       "        text-align: right;\n",
       "    }\n",
       "</style>\n",
       "<table border=\"1\" class=\"dataframe\">\n",
       "  <thead>\n",
       "    <tr style=\"text-align: right;\">\n",
       "      <th></th>\n",
       "      <th>Mkt-RF</th>\n",
       "      <th>SMB</th>\n",
       "      <th>HML</th>\n",
       "      <th>RF</th>\n",
       "      <th>ENB.TO</th>\n",
       "      <th>ENB.TO-RF</th>\n",
       "    </tr>\n",
       "    <tr>\n",
       "      <th>Date</th>\n",
       "      <th></th>\n",
       "      <th></th>\n",
       "      <th></th>\n",
       "      <th></th>\n",
       "      <th></th>\n",
       "      <th></th>\n",
       "    </tr>\n",
       "  </thead>\n",
       "  <tbody>\n",
       "    <tr>\n",
       "      <th>2022-05-31</th>\n",
       "      <td>-0.0034</td>\n",
       "      <td>-0.0185</td>\n",
       "      <td>0.0841</td>\n",
       "      <td>0.0003</td>\n",
       "      <td>0.058515</td>\n",
       "      <td>0.058215</td>\n",
       "    </tr>\n",
       "    <tr>\n",
       "      <th>2022-06-30</th>\n",
       "      <td>-0.0843</td>\n",
       "      <td>0.0209</td>\n",
       "      <td>-0.0597</td>\n",
       "      <td>0.0006</td>\n",
       "      <td>-0.069656</td>\n",
       "      <td>-0.070256</td>\n",
       "    </tr>\n",
       "    <tr>\n",
       "      <th>2022-07-31</th>\n",
       "      <td>0.0957</td>\n",
       "      <td>0.0281</td>\n",
       "      <td>-0.0410</td>\n",
       "      <td>0.0008</td>\n",
       "      <td>0.057947</td>\n",
       "      <td>0.057147</td>\n",
       "    </tr>\n",
       "    <tr>\n",
       "      <th>2022-08-31</th>\n",
       "      <td>-0.0378</td>\n",
       "      <td>0.0139</td>\n",
       "      <td>0.0031</td>\n",
       "      <td>0.0019</td>\n",
       "      <td>-0.043710</td>\n",
       "      <td>-0.045610</td>\n",
       "    </tr>\n",
       "    <tr>\n",
       "      <th>2022-09-30</th>\n",
       "      <td>-0.0936</td>\n",
       "      <td>-0.0081</td>\n",
       "      <td>0.0005</td>\n",
       "      <td>0.0019</td>\n",
       "      <td>-0.054284</td>\n",
       "      <td>-0.056184</td>\n",
       "    </tr>\n",
       "  </tbody>\n",
       "</table>\n",
       "</div>"
      ],
      "text/plain": [
       "            Mkt-RF     SMB     HML      RF    ENB.TO  ENB.TO-RF\n",
       "Date                                                           \n",
       "2022-05-31 -0.0034 -0.0185  0.0841  0.0003  0.058515   0.058215\n",
       "2022-06-30 -0.0843  0.0209 -0.0597  0.0006 -0.069656  -0.070256\n",
       "2022-07-31  0.0957  0.0281 -0.0410  0.0008  0.057947   0.057147\n",
       "2022-08-31 -0.0378  0.0139  0.0031  0.0019 -0.043710  -0.045610\n",
       "2022-09-30 -0.0936 -0.0081  0.0005  0.0019 -0.054284  -0.056184"
      ]
     },
     "execution_count": 14,
     "metadata": {},
     "output_type": "execute_result"
    }
   ],
   "source": [
    "data= ff3_monthly.merge(stock_returns, on = 'Date')\n",
    "data.head()\n",
    "data = data.tail(60)\n",
    "data.shape\n",
    "excess_return = data['ENB.TO']-data['RF']\n",
    "data['ENB.TO-RF']=excess_return\n",
    "data.tail()\n",
    "\n"
   ]
  },
  {
   "cell_type": "markdown",
   "id": "e9f01500",
   "metadata": {},
   "source": [
    "OLS Regression to Estimate Beta\n",
    "\n",
    "*Mkt-RF is statistically significant (P>|t| < 5, t > 2) <br>\n",
    "*HML is statistically significant (P>|t| < 5, t > 2)\n",
    "\n"
   ]
  },
  {
   "cell_type": "code",
   "execution_count": 15,
   "id": "971bb495",
   "metadata": {},
   "outputs": [
    {
     "name": "stdout",
     "output_type": "stream",
     "text": [
      "Market Beta: 0.5019586980923032 Size Beta: 0.2630988343641346 Value Beta 0.3843818448699845\n"
     ]
    },
    {
     "data": {
      "text/html": [
       "<table class=\"simpletable\">\n",
       "<caption>OLS Regression Results</caption>\n",
       "<tr>\n",
       "  <th>Dep. Variable:</th>        <td>ENB.TO-RF</td>    <th>  R-squared:         </th> <td>   0.318</td>\n",
       "</tr>\n",
       "<tr>\n",
       "  <th>Model:</th>                   <td>OLS</td>       <th>  Adj. R-squared:    </th> <td>   0.282</td>\n",
       "</tr>\n",
       "<tr>\n",
       "  <th>Method:</th>             <td>Least Squares</td>  <th>  F-statistic:       </th> <td>   8.723</td>\n",
       "</tr>\n",
       "<tr>\n",
       "  <th>Date:</th>             <td>Sat, 05 Nov 2022</td> <th>  Prob (F-statistic):</th> <td>7.69e-05</td>\n",
       "</tr>\n",
       "<tr>\n",
       "  <th>Time:</th>                 <td>02:43:21</td>     <th>  Log-Likelihood:    </th> <td>  94.634</td>\n",
       "</tr>\n",
       "<tr>\n",
       "  <th>No. Observations:</th>      <td>    60</td>      <th>  AIC:               </th> <td>  -181.3</td>\n",
       "</tr>\n",
       "<tr>\n",
       "  <th>Df Residuals:</th>          <td>    56</td>      <th>  BIC:               </th> <td>  -172.9</td>\n",
       "</tr>\n",
       "<tr>\n",
       "  <th>Df Model:</th>              <td>     3</td>      <th>                     </th>     <td> </td>   \n",
       "</tr>\n",
       "<tr>\n",
       "  <th>Covariance Type:</th>      <td>nonrobust</td>    <th>                     </th>     <td> </td>   \n",
       "</tr>\n",
       "</table>\n",
       "<table class=\"simpletable\">\n",
       "<tr>\n",
       "     <td></td>       <th>coef</th>     <th>std err</th>      <th>t</th>      <th>P>|t|</th>  <th>[0.025</th>    <th>0.975]</th>  \n",
       "</tr>\n",
       "<tr>\n",
       "  <th>const</th>  <td>    0.0032</td> <td>    0.007</td> <td>    0.480</td> <td> 0.633</td> <td>   -0.010</td> <td>    0.017</td>\n",
       "</tr>\n",
       "<tr>\n",
       "  <th>Mkt-RF</th> <td>    0.5020</td> <td>    0.130</td> <td>    3.853</td> <td> 0.000</td> <td>    0.241</td> <td>    0.763</td>\n",
       "</tr>\n",
       "<tr>\n",
       "  <th>SMB</th>    <td>    0.2631</td> <td>    0.259</td> <td>    1.017</td> <td> 0.313</td> <td>   -0.255</td> <td>    0.781</td>\n",
       "</tr>\n",
       "<tr>\n",
       "  <th>HML</th>    <td>    0.3844</td> <td>    0.157</td> <td>    2.448</td> <td> 0.018</td> <td>    0.070</td> <td>    0.699</td>\n",
       "</tr>\n",
       "</table>\n",
       "<table class=\"simpletable\">\n",
       "<tr>\n",
       "  <th>Omnibus:</th>       <td> 3.721</td> <th>  Durbin-Watson:     </th> <td>   1.946</td>\n",
       "</tr>\n",
       "<tr>\n",
       "  <th>Prob(Omnibus):</th> <td> 0.156</td> <th>  Jarque-Bera (JB):  </th> <td>   2.792</td>\n",
       "</tr>\n",
       "<tr>\n",
       "  <th>Skew:</th>          <td> 0.402</td> <th>  Prob(JB):          </th> <td>   0.248</td>\n",
       "</tr>\n",
       "<tr>\n",
       "  <th>Kurtosis:</th>      <td> 3.686</td> <th>  Cond. No.          </th> <td>    39.4</td>\n",
       "</tr>\n",
       "</table><br/><br/>Notes:<br/>[1] Standard Errors assume that the covariance matrix of the errors is correctly specified."
      ],
      "text/plain": [
       "<class 'statsmodels.iolib.summary.Summary'>\n",
       "\"\"\"\n",
       "                            OLS Regression Results                            \n",
       "==============================================================================\n",
       "Dep. Variable:              ENB.TO-RF   R-squared:                       0.318\n",
       "Model:                            OLS   Adj. R-squared:                  0.282\n",
       "Method:                 Least Squares   F-statistic:                     8.723\n",
       "Date:                Sat, 05 Nov 2022   Prob (F-statistic):           7.69e-05\n",
       "Time:                        02:43:21   Log-Likelihood:                 94.634\n",
       "No. Observations:                  60   AIC:                            -181.3\n",
       "Df Residuals:                      56   BIC:                            -172.9\n",
       "Df Model:                           3                                         \n",
       "Covariance Type:            nonrobust                                         \n",
       "==============================================================================\n",
       "                 coef    std err          t      P>|t|      [0.025      0.975]\n",
       "------------------------------------------------------------------------------\n",
       "const          0.0032      0.007      0.480      0.633      -0.010       0.017\n",
       "Mkt-RF         0.5020      0.130      3.853      0.000       0.241       0.763\n",
       "SMB            0.2631      0.259      1.017      0.313      -0.255       0.781\n",
       "HML            0.3844      0.157      2.448      0.018       0.070       0.699\n",
       "==============================================================================\n",
       "Omnibus:                        3.721   Durbin-Watson:                   1.946\n",
       "Prob(Omnibus):                  0.156   Jarque-Bera (JB):                2.792\n",
       "Skew:                           0.402   Prob(JB):                        0.248\n",
       "Kurtosis:                       3.686   Cond. No.                         39.4\n",
       "==============================================================================\n",
       "\n",
       "Notes:\n",
       "[1] Standard Errors assume that the covariance matrix of the errors is correctly specified.\n",
       "\"\"\""
      ]
     },
     "execution_count": 15,
     "metadata": {},
     "output_type": "execute_result"
    }
   ],
   "source": [
    "X =  data[['Mkt-RF', 'SMB', 'HML']]\n",
    "Y = data['ENB.TO-RF']\n",
    "\n",
    "X1 = sm.add_constant(X)\n",
    "model = sm.OLS(Y,X1)\n",
    "results = model.fit()\n",
    "\n",
    "intercept, beta_m, beta_s, beta_v = results.params\n",
    "print('Market Beta:',beta_m, 'Size Beta:', beta_s, 'Value Beta', beta_v)\n",
    "results.summary()\n",
    "\n"
   ]
  },
  {
   "cell_type": "markdown",
   "id": "9d1fdc88",
   "metadata": {},
   "source": [
    "Calculate Cost of Equity"
   ]
  },
  {
   "cell_type": "code",
   "execution_count": 6,
   "id": "9e8880d8",
   "metadata": {},
   "outputs": [
    {
     "name": "stdout",
     "output_type": "stream",
     "text": [
      "Cost of Equity: 6.050418502530049 %\n"
     ]
    }
   ],
   "source": [
    "risk_free = data['RF'].mean()\n",
    "risk_free\n",
    "exp_return = risk_free + beta_m*market_premium + beta_s*size_premium + beta_v*value_premium\n",
    "exp_return=exp_return*12 \n",
    "print('Cost of Equity:',exp_return*100,'%')"
   ]
  },
  {
   "cell_type": "markdown",
   "id": "5b5658d8",
   "metadata": {},
   "source": [
    "## Dividend Discount Model\n",
    "\n",
    ">$$P=\\frac{D_{1}}{r-g}  $$\n",
    "\n",
    "where: <br>\n",
    "$P$ = price <br>\n",
    "$D_{1}$ = value of next year dividend <br>\n",
    "$r$ = constant cost of equity capital <br>\n",
    "$g$ = constant growth rate in perpetuity <br>\n"
   ]
  },
  {
   "cell_type": "code",
   "execution_count": 7,
   "id": "3e49878b",
   "metadata": {},
   "outputs": [],
   "source": [
    "curr_price=stock_prices[ticker[0]][-1]\n",
    "div = 3.24\n",
    "cost_capital_mean = exp_return\n",
    "cost_capital_std = 0.01\n",
    "growth_mean= 0.02\n",
    "growth_std= 0.01\n",
    "\n",
    "\n",
    "def dividend_discount (dividend, cost_capital, growth):\n",
    "    return dividend/(cost_capital-growth)"
   ]
  },
  {
   "cell_type": "code",
   "execution_count": 8,
   "id": "119087d5",
   "metadata": {},
   "outputs": [
    {
     "name": "stdout",
     "output_type": "stream",
     "text": [
      "The Fair Price is $ 79.99173413750134\n",
      "Upside 47.66796537083726\n"
     ]
    }
   ],
   "source": [
    "fair_price=dividend_discount(div, cost_capital_mean, growth_mean)\n",
    "print('The Fair Price is $', fair_price)\n",
    "print('Upside',((fair_price-curr_price)/curr_price)*100)\n"
   ]
  },
  {
   "cell_type": "markdown",
   "id": "1f7c86c5",
   "metadata": {},
   "source": [
    "## Sensitivity Analysis - Monte Carlo Simulations"
   ]
  },
  {
   "cell_type": "code",
   "execution_count": 9,
   "id": "9370a1cb",
   "metadata": {},
   "outputs": [],
   "source": [
    "results = []\n",
    "n_iterations=100000\n",
    "\n",
    "def ddm_sim(div, cost_capital_mean, cost_capital_std, growth_mean, growth_std, n_iterations):\n",
    "    for i in range(n_iterations):\n",
    "        growth = random.normalvariate(growth_mean,growth_std)\n",
    "        cost_capital = random.normalvariate(cost_capital_mean, cost_capital_std)\n",
    "        if growth > (cost_capital-0.005):\n",
    "            continue\n",
    "        price=dividend_discount(div,cost_capital,growth)\n",
    "        results.append((growth,cost_capital,price))               \n",
    "    return results\n",
    "\n",
    "def styled_df(df):\n",
    "    return df.style.format({\n",
    "        'Growth': '{:.2%}',\n",
    "        'Cost of Capital': '{:.2%}',\n",
    "        'Price' : '${:,.2f}'\n",
    "            }).background_gradient(cmap='RdYlGn', subset='Price')\n",
    "\n",
    "results = ddm_sim(div, cost_capital_mean,cost_capital_std, growth_mean, growth_std, n_iterations)\n",
    "df = pd.DataFrame(results, columns=['Growth','Cost of Capital', 'Price'])\n"
   ]
  },
  {
   "cell_type": "markdown",
   "id": "17c112cc",
   "metadata": {},
   "source": [
    "## Fair Price Distribution \n",
    "Log-normal distribution"
   ]
  },
  {
   "cell_type": "code",
   "execution_count": 10,
   "id": "a4f65777",
   "metadata": {},
   "outputs": [
    {
     "data": {
      "text/plain": [
       "<AxesSubplot:ylabel='Frequency'>"
      ]
     },
     "execution_count": 10,
     "metadata": {},
     "output_type": "execute_result"
    },
    {
     "data": {
      "image/png": "[encoded data removed]",
      "text/plain": [
       "<Figure size 640x480 with 1 Axes>"
      ]
     },
     "metadata": {},
     "output_type": "display_data"
    }
   ],
   "source": [
    "df['Price'].plot.hist(bins=100)\n"
   ]
  },
  {
   "cell_type": "markdown",
   "id": "50746ff5",
   "metadata": {},
   "source": [
    "## Inputs and Fair Price Probability \n"
   ]
  },
  {
   "cell_type": "code",
   "execution_count": 11,
   "id": "16858002",
   "metadata": {},
   "outputs": [
    {
     "data": {
      "text/html": [
       "<style type=\"text/css\">\n",
       "#T_0207c_row0_col2 {\n",
       "  background-color: #a50026;\n",
       "  color: #f1f1f1;\n",
       "}\n",
       "#T_0207c_row1_col2 {\n",
       "  background-color: #b50f26;\n",
       "  color: #f1f1f1;\n",
       "}\n",
       "#T_0207c_row2_col2 {\n",
       "  background-color: #c21c27;\n",
       "  color: #f1f1f1;\n",
       "}\n",
       "#T_0207c_row3_col2 {\n",
       "  background-color: #ce2827;\n",
       "  color: #f1f1f1;\n",
       "}\n",
       "#T_0207c_row4_col2 {\n",
       "  background-color: #d93429;\n",
       "  color: #f1f1f1;\n",
       "}\n",
       "#T_0207c_row5_col2 {\n",
       "  background-color: #e0422f;\n",
       "  color: #f1f1f1;\n",
       "}\n",
       "#T_0207c_row6_col2 {\n",
       "  background-color: #e54e35;\n",
       "  color: #f1f1f1;\n",
       "}\n",
       "#T_0207c_row7_col2 {\n",
       "  background-color: #ec5c3b;\n",
       "  color: #f1f1f1;\n",
       "}\n",
       "#T_0207c_row8_col2 {\n",
       "  background-color: #f36b42;\n",
       "  color: #f1f1f1;\n",
       "}\n",
       "#T_0207c_row9_col2 {\n",
       "  background-color: #f67c4a;\n",
       "  color: #f1f1f1;\n",
       "}\n",
       "#T_0207c_row10_col2 {\n",
       "  background-color: #f98e52;\n",
       "  color: #f1f1f1;\n",
       "}\n",
       "#T_0207c_row11_col2 {\n",
       "  background-color: #fba35c;\n",
       "  color: #000000;\n",
       "}\n",
       "#T_0207c_row12_col2 {\n",
       "  background-color: #fdb768;\n",
       "  color: #000000;\n",
       "}\n",
       "#T_0207c_row13_col2 {\n",
       "  background-color: #fecc7b;\n",
       "  color: #000000;\n",
       "}\n",
       "#T_0207c_row14_col2 {\n",
       "  background-color: #fee491;\n",
       "  color: #000000;\n",
       "}\n",
       "#T_0207c_row15_col2 {\n",
       "  background-color: #fff8b4;\n",
       "  color: #000000;\n",
       "}\n",
       "#T_0207c_row16_col2 {\n",
       "  background-color: #e5f49b;\n",
       "  color: #000000;\n",
       "}\n",
       "#T_0207c_row17_col2 {\n",
       "  background-color: #a0d669;\n",
       "  color: #000000;\n",
       "}\n",
       "#T_0207c_row18_col2 {\n",
       "  background-color: #006837;\n",
       "  color: #f1f1f1;\n",
       "}\n",
       "</style>\n",
       "<table id=\"T_0207c\">\n",
       "  <thead>\n",
       "    <tr>\n",
       "      <th class=\"blank level0\" >&nbsp;</th>\n",
       "      <th id=\"T_0207c_level0_col0\" class=\"col_heading level0 col0\" >Growth</th>\n",
       "      <th id=\"T_0207c_level0_col1\" class=\"col_heading level0 col1\" >Cost of Capital</th>\n",
       "      <th id=\"T_0207c_level0_col2\" class=\"col_heading level0 col2\" >Price</th>\n",
       "    </tr>\n",
       "  </thead>\n",
       "  <tbody>\n",
       "    <tr>\n",
       "      <th id=\"T_0207c_level0_row0\" class=\"row_heading level0 row0\" >0.050000</th>\n",
       "      <td id=\"T_0207c_row0_col0\" class=\"data row0 col0\" >0.35%</td>\n",
       "      <td id=\"T_0207c_row0_col1\" class=\"data row0 col1\" >4.45%</td>\n",
       "      <td id=\"T_0207c_row0_col2\" class=\"data row0 col2\" >$50.86</td>\n",
       "    </tr>\n",
       "    <tr>\n",
       "      <th id=\"T_0207c_level0_row1\" class=\"row_heading level0 row1\" >0.100000</th>\n",
       "      <td id=\"T_0207c_row1_col0\" class=\"data row1 col0\" >0.71%</td>\n",
       "      <td id=\"T_0207c_row1_col1\" class=\"data row1 col1\" >4.80%</td>\n",
       "      <td id=\"T_0207c_row1_col2\" class=\"data row1 col2\" >$55.21</td>\n",
       "    </tr>\n",
       "    <tr>\n",
       "      <th id=\"T_0207c_level0_row2\" class=\"row_heading level0 row2\" >0.150000</th>\n",
       "      <td id=\"T_0207c_row2_col0\" class=\"data row2 col0\" >0.95%</td>\n",
       "      <td id=\"T_0207c_row2_col1\" class=\"data row2 col1\" >5.04%</td>\n",
       "      <td id=\"T_0207c_row2_col2\" class=\"data row2 col2\" >$58.71</td>\n",
       "    </tr>\n",
       "    <tr>\n",
       "      <th id=\"T_0207c_level0_row3\" class=\"row_heading level0 row3\" >0.200000</th>\n",
       "      <td id=\"T_0207c_row3_col0\" class=\"data row3 col0\" >1.15%</td>\n",
       "      <td id=\"T_0207c_row3_col1\" class=\"data row3 col1\" >5.23%</td>\n",
       "      <td id=\"T_0207c_row3_col2\" class=\"data row3 col2\" >$61.79</td>\n",
       "    </tr>\n",
       "    <tr>\n",
       "      <th id=\"T_0207c_level0_row4\" class=\"row_heading level0 row4\" >0.250000</th>\n",
       "      <td id=\"T_0207c_row4_col0\" class=\"data row4 col0\" >1.31%</td>\n",
       "      <td id=\"T_0207c_row4_col1\" class=\"data row4 col1\" >5.39%</td>\n",
       "      <td id=\"T_0207c_row4_col2\" class=\"data row4 col2\" >$64.59</td>\n",
       "    </tr>\n",
       "    <tr>\n",
       "      <th id=\"T_0207c_level0_row5\" class=\"row_heading level0 row5\" >0.300000</th>\n",
       "      <td id=\"T_0207c_row5_col0\" class=\"data row5 col0\" >1.46%</td>\n",
       "      <td id=\"T_0207c_row5_col1\" class=\"data row5 col1\" >5.54%</td>\n",
       "      <td id=\"T_0207c_row5_col2\" class=\"data row5 col2\" >$67.44</td>\n",
       "    </tr>\n",
       "    <tr>\n",
       "      <th id=\"T_0207c_level0_row6\" class=\"row_heading level0 row6\" >0.350000</th>\n",
       "      <td id=\"T_0207c_row6_col0\" class=\"data row6 col0\" >1.61%</td>\n",
       "      <td id=\"T_0207c_row6_col1\" class=\"data row6 col1\" >5.68%</td>\n",
       "      <td id=\"T_0207c_row6_col2\" class=\"data row6 col2\" >$70.25</td>\n",
       "    </tr>\n",
       "    <tr>\n",
       "      <th id=\"T_0207c_level0_row7\" class=\"row_heading level0 row7\" >0.400000</th>\n",
       "      <td id=\"T_0207c_row7_col0\" class=\"data row7 col0\" >1.73%</td>\n",
       "      <td id=\"T_0207c_row7_col1\" class=\"data row7 col1\" >5.81%</td>\n",
       "      <td id=\"T_0207c_row7_col2\" class=\"data row7 col2\" >$73.17</td>\n",
       "    </tr>\n",
       "    <tr>\n",
       "      <th id=\"T_0207c_level0_row8\" class=\"row_heading level0 row8\" >0.450000</th>\n",
       "      <td id=\"T_0207c_row8_col0\" class=\"data row8 col0\" >1.86%</td>\n",
       "      <td id=\"T_0207c_row8_col1\" class=\"data row8 col1\" >5.93%</td>\n",
       "      <td id=\"T_0207c_row8_col2\" class=\"data row8 col2\" >$76.27</td>\n",
       "    </tr>\n",
       "    <tr>\n",
       "      <th id=\"T_0207c_level0_row9\" class=\"row_heading level0 row9\" >0.500000</th>\n",
       "      <td id=\"T_0207c_row9_col0\" class=\"data row9 col0\" >1.99%</td>\n",
       "      <td id=\"T_0207c_row9_col1\" class=\"data row9 col1\" >6.06%</td>\n",
       "      <td id=\"T_0207c_row9_col2\" class=\"data row9 col2\" >$79.65</td>\n",
       "    </tr>\n",
       "    <tr>\n",
       "      <th id=\"T_0207c_level0_row10\" class=\"row_heading level0 row10\" >0.550000</th>\n",
       "      <td id=\"T_0207c_row10_col0\" class=\"data row10 col0\" >2.11%</td>\n",
       "      <td id=\"T_0207c_row10_col1\" class=\"data row10 col1\" >6.18%</td>\n",
       "      <td id=\"T_0207c_row10_col2\" class=\"data row10 col2\" >$83.24</td>\n",
       "    </tr>\n",
       "    <tr>\n",
       "      <th id=\"T_0207c_level0_row11\" class=\"row_heading level0 row11\" >0.600000</th>\n",
       "      <td id=\"T_0207c_row11_col0\" class=\"data row11 col0\" >2.24%</td>\n",
       "      <td id=\"T_0207c_row11_col1\" class=\"data row11 col1\" >6.31%</td>\n",
       "      <td id=\"T_0207c_row11_col2\" class=\"data row11 col2\" >$87.32</td>\n",
       "    </tr>\n",
       "    <tr>\n",
       "      <th id=\"T_0207c_level0_row12\" class=\"row_heading level0 row12\" >0.650000</th>\n",
       "      <td id=\"T_0207c_row12_col0\" class=\"data row12 col0\" >2.37%</td>\n",
       "      <td id=\"T_0207c_row12_col1\" class=\"data row12 col1\" >6.44%</td>\n",
       "      <td id=\"T_0207c_row12_col2\" class=\"data row12 col2\" >$91.88</td>\n",
       "    </tr>\n",
       "    <tr>\n",
       "      <th id=\"T_0207c_level0_row13\" class=\"row_heading level0 row13\" >0.700000</th>\n",
       "      <td id=\"T_0207c_row13_col0\" class=\"data row13 col0\" >2.51%</td>\n",
       "      <td id=\"T_0207c_row13_col1\" class=\"data row13 col1\" >6.58%</td>\n",
       "      <td id=\"T_0207c_row13_col2\" class=\"data row13 col2\" >$97.17</td>\n",
       "    </tr>\n",
       "    <tr>\n",
       "      <th id=\"T_0207c_level0_row14\" class=\"row_heading level0 row14\" >0.750000</th>\n",
       "      <td id=\"T_0207c_row14_col0\" class=\"data row14 col0\" >2.66%</td>\n",
       "      <td id=\"T_0207c_row14_col1\" class=\"data row14 col1\" >6.73%</td>\n",
       "      <td id=\"T_0207c_row14_col2\" class=\"data row14 col2\" >$103.70</td>\n",
       "    </tr>\n",
       "    <tr>\n",
       "      <th id=\"T_0207c_level0_row15\" class=\"row_heading level0 row15\" >0.800000</th>\n",
       "      <td id=\"T_0207c_row15_col0\" class=\"data row15 col0\" >2.83%</td>\n",
       "      <td id=\"T_0207c_row15_col1\" class=\"data row15 col1\" >6.90%</td>\n",
       "      <td id=\"T_0207c_row15_col2\" class=\"data row15 col2\" >$112.25</td>\n",
       "    </tr>\n",
       "    <tr>\n",
       "      <th id=\"T_0207c_level0_row16\" class=\"row_heading level0 row16\" >0.850000</th>\n",
       "      <td id=\"T_0207c_row16_col0\" class=\"data row16 col0\" >3.02%</td>\n",
       "      <td id=\"T_0207c_row16_col1\" class=\"data row16 col1\" >7.09%</td>\n",
       "      <td id=\"T_0207c_row16_col2\" class=\"data row16 col2\" >$123.61</td>\n",
       "    </tr>\n",
       "    <tr>\n",
       "      <th id=\"T_0207c_level0_row17\" class=\"row_heading level0 row17\" >0.900000</th>\n",
       "      <td id=\"T_0207c_row17_col0\" class=\"data row17 col0\" >3.26%</td>\n",
       "      <td id=\"T_0207c_row17_col1\" class=\"data row17 col1\" >7.33%</td>\n",
       "      <td id=\"T_0207c_row17_col2\" class=\"data row17 col2\" >$141.94</td>\n",
       "    </tr>\n",
       "    <tr>\n",
       "      <th id=\"T_0207c_level0_row18\" class=\"row_heading level0 row18\" >0.950000</th>\n",
       "      <td id=\"T_0207c_row18_col0\" class=\"data row18 col0\" >3.60%</td>\n",
       "      <td id=\"T_0207c_row18_col1\" class=\"data row18 col1\" >7.70%</td>\n",
       "      <td id=\"T_0207c_row18_col2\" class=\"data row18 col2\" >$179.20</td>\n",
       "    </tr>\n",
       "  </tbody>\n",
       "</table>\n"
      ],
      "text/plain": [
       "<pandas.io.formats.style.Styler at 0x7f8589f7f1f0>"
      ]
     },
     "execution_count": 11,
     "metadata": {},
     "output_type": "execute_result"
    }
   ],
   "source": [
    "quants = df.quantile([i / 20 for i in range(1, 20)])\n",
    "styled_df(quants)"
   ]
  },
  {
   "cell_type": "markdown",
   "id": "5c4ea254",
   "metadata": {},
   "source": [
    "## Plots of Inputs vs. Fair Price \n"
   ]
  },
  {
   "cell_type": "code",
   "execution_count": 12,
   "id": "8112a3cd",
   "metadata": {},
   "outputs": [
    {
     "data": {
      "image/png": "[encoded data removed]",
      "text/plain": [
       "<Figure size 640x480 with 1 Axes>"
      ]
     },
     "metadata": {},
     "output_type": "display_data"
    },
    {
     "data": {
      "image/png": "[encoded data removed]",
      "text/plain": [
       "<Figure size 640x480 with 1 Axes>"
      ]
     },
     "metadata": {},
     "output_type": "display_data"
    }
   ],
   "source": [
    "\n",
    "input_cols = [\n",
    "    'Growth', \n",
    "    'Cost of Capital',\n",
    "]\n",
    "\n",
    "for col in input_cols:\n",
    "    df.plot.scatter(y='Price', x=col)"
   ]
  },
  {
   "cell_type": "code",
   "execution_count": null,
   "id": "769868ea",
   "metadata": {},
   "outputs": [],
   "source": []
  },
  {
   "cell_type": "code",
   "execution_count": null,
   "id": "f4b55e55",
   "metadata": {},
   "outputs": [],
   "source": []
  }
 ],
 "metadata": {
  "kernelspec": {
   "display_name": "Python 3 (ipykernel)",
   "language": "python",
   "name": "python3"
  },
  "language_info": {
   "codemirror_mode": {
    "name": "ipython",
    "version": 3
   },
   "file_extension": ".py",
   "mimetype": "text/x-python",
   "name": "python",
   "nbconvert_exporter": "python",
   "pygments_lexer": "ipython3",
   "version": "3.9.13"
  }
 },
 "nbformat": 4,
 "nbformat_minor": 5
}
